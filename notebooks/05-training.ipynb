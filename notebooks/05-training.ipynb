{
 "cells": [
  {
   "cell_type": "code",
   "execution_count": 1,
   "metadata": {
    "_cell_guid": "b1076dfc-b9ad-4769-8c92-a6c4dae69d19",
    "_uuid": "8f2839f25d086af736a60e9eeb907d3b93b6e0e5",
    "execution": {
     "iopub.execute_input": "2024-12-11T18:45:05.282381Z",
     "iopub.status.busy": "2024-12-11T18:45:05.281945Z",
     "iopub.status.idle": "2024-12-11T18:45:06.547388Z",
     "shell.execute_reply": "2024-12-11T18:45:06.546109Z",
     "shell.execute_reply.started": "2024-12-11T18:45:05.282329Z"
    },
    "trusted": true
   },
   "outputs": [],
   "source": [
    "import mlflow\n",
    "import time\n",
    "import torch\n",
    "\n",
    "from omegaconf import OmegaConf\n",
    "from torch.utils.data import DataLoader\n",
    "\n",
    "from nba_ingame_prob.consts import proj_paths\n",
    "from nba_ingame_prob.model.bayesian import BayesianResultPredictor\n",
    "from nba_ingame_prob.model.inputs import prepare_scalers\n",
    "from nba_ingame_prob.training.dataset import NBADataset\n",
    "from nba_ingame_prob.training.pipeline import prepare_data\n",
    "from nba_ingame_prob.training.run_torch import run_training"
   ]
  },
  {
   "cell_type": "code",
   "execution_count": 2,
   "metadata": {},
   "outputs": [],
   "source": [
    "def process_key(key):\n",
    "    return \"\".join(\n",
    "        word[0]\n",
    "        for word in key.split('_')\n",
    "    )\n",
    "\n",
    "def name_run(config):\n",
    "    run_name = '_'.join(\n",
    "        f\"{value}{process_key(key)}\"\n",
    "        for key, value in config.training.model_config.items()\n",
    "        if key != 'time_scaling'\n",
    "    )\n",
    "    run_name += f\"_wd{config.training.params.weight_decay}\"\n",
    "    run_name += '_WL'  if config.training.params.weighted_loss else \"_nWL\"\n",
    "    run_name += \"_TS\" if config.training.model_config.time_scaling else \"_nTS\"\n",
    "    run_name += '_' + config.model_name.split('_')[0]\n",
    "    return run_name"
   ]
  },
  {
   "cell_type": "code",
   "execution_count": 3,
   "metadata": {},
   "outputs": [
    {
     "name": "stdout",
     "output_type": "stream",
     "text": [
      "Available objects for config:\n",
      "    AliasManager\n",
      "    DisplayFormatter\n",
      "    HistoryManager\n",
      "    IPCompleter\n",
      "    IPKernelApp\n",
      "    LoggingMagics\n",
      "    MagicsManager\n",
      "    OSMagics\n",
      "    PrefilterManager\n",
      "    ScriptMagics\n",
      "    StoreMagics\n",
      "    ZMQInteractiveShell\n"
     ]
    }
   ],
   "source": [
    "config"
   ]
  },
  {
   "cell_type": "code",
   "execution_count": 4,
   "metadata": {},
   "outputs": [
    {
     "name": "stderr",
     "output_type": "stream",
     "text": [
      "2025/09/13 00:27:42 INFO mlflow.system_metrics.system_metrics_monitor: Started monitoring system metrics.\n",
      "loss: 1.3398 | epoch:  79/80: : 17200it [10:15, 27.94it/s]                         \n",
      "2025/09/13 00:37:58 INFO mlflow.system_metrics.system_metrics_monitor: Stopping system metrics monitoring...\n",
      "2025/09/13 00:37:58 INFO mlflow.system_metrics.system_metrics_monitor: Successfully terminated system metrics monitoring!\n"
     ]
    },
    {
     "name": "stdout",
     "output_type": "stream",
     "text": [
      "🏃 View run Noneed_4thd_1tl_4rhd_4rl_wd0.5_nWL_nTS_cb-20250913-002738 at: http://mlflow:5000/#/experiments/664344747479239756/runs/84e702a348d84f8b849ad8d7f38d80e1\n",
      "🧪 View experiment at: http://mlflow:5000/#/experiments/664344747479239756\n"
     ]
    }
   ],
   "source": [
    "now = time.strftime(\"%Y%m%d-%H%M%S\")\n",
    "config = OmegaConf.load(proj_paths.config.bayesian)\n",
    "scalers_path = proj_paths.output / 'scalers.pkl'\n",
    "input_teams = config['inputs_team'] or []\n",
    "data_prepared = prepare_data(**config['data_params'])\n",
    "scalers = prepare_scalers(data_prepared.X_train, input_teams, scalers_path)\n",
    "\n",
    "train_dataset = NBADataset(input_teams, config['target'], data_prepared.X_train, data_prepared.teams, scalers)\n",
    "test_dataset = NBADataset(input_teams, config['target'], data_prepared.X_test, data_prepared.teams, scalers)\n",
    "\n",
    "params = config['training']['params']\n",
    "train_loader = DataLoader(train_dataset, batch_size=params['batch_size'], shuffle=True)\n",
    "test_loader = DataLoader(test_dataset, batch_size=params['batch_size'], shuffle=False)\n",
    "\n",
    "device = torch.device('cuda' if torch.cuda.is_available() else 'cpu')\n",
    "model_init = OmegaConf.create(dict(\n",
    "    team_count=len(data_prepared.teams),\n",
    "    team_features=len(input_teams)//2,\n",
    "    **config['training']['model_config']\n",
    "))\n",
    "model_init_path = proj_paths.output / \"model_init.yaml\"\n",
    "model_init_path.open(\"w\").write(OmegaConf.to_yaml(model_init))\n",
    "model = BayesianResultPredictor(**model_init).to(device)\n",
    "\n",
    "optimizer = torch.optim.Adam(\n",
    "    model.parameters(),\n",
    "    lr=params['learning_rate'],\n",
    "    weight_decay=params['weight_decay'] or 0.0\n",
    ")\n",
    "scheduler = torch.optim.lr_scheduler.ExponentialLR(optimizer, gamma = params.get('lr_gamma', 1.0))\n",
    "\n",
    "create_experiment = mlflow.get_experiment_by_name(config['experiment_name']) is None\n",
    "if create_experiment:\n",
    "    mlflow.create_experiment(\n",
    "        name=config['experiment_name'],\n",
    "        tags={\n",
    "            'author': 'Tom Bukic',\n",
    "            'company': 'accelerate.ai'\n",
    "        }\n",
    "    )\n",
    "    create_experiment = False\n",
    "\n",
    "mlflow.set_experiment(config['experiment_name'])\n",
    "with mlflow.start_run(run_name=f'{name_run(config)}-{now}'):\n",
    "    mlflow.log_artifact(model_init_path)\n",
    "    run_training(model, train_loader, test_loader, config, optimizer,  device, scheduler,  timestamp=now)\n"
   ]
  }
 ],
 "metadata": {
  "kaggle": {
   "accelerator": "none",
   "dataSources": [
    {
     "datasetId": 2151223,
     "sourceId": 4088094,
     "sourceType": "datasetVersion"
    }
   ],
   "dockerImageVersionId": 30804,
   "isGpuEnabled": false,
   "isInternetEnabled": false,
   "language": "python",
   "sourceType": "notebook"
  },
  "kernelspec": {
   "display_name": "nba-ingame-prob",
   "language": "python",
   "name": "python3"
  },
  "language_info": {
   "codemirror_mode": {
    "name": "ipython",
    "version": 3
   },
   "file_extension": ".py",
   "mimetype": "text/x-python",
   "name": "python",
   "nbconvert_exporter": "python",
   "pygments_lexer": "ipython3",
   "version": "3.12.8"
  }
 },
 "nbformat": 4,
 "nbformat_minor": 4
}