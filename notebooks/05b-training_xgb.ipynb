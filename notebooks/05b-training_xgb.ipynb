{
 "cells": [
  {
   "cell_type": "code",
   "execution_count": 1,
   "metadata": {
    "_cell_guid": "b1076dfc-b9ad-4769-8c92-a6c4dae69d19",
    "_uuid": "8f2839f25d086af736a60e9eeb907d3b93b6e0e5",
    "execution": {
     "iopub.execute_input": "2024-12-11T18:45:05.282381Z",
     "iopub.status.busy": "2024-12-11T18:45:05.281945Z",
     "iopub.status.idle": "2024-12-11T18:45:06.547388Z",
     "shell.execute_reply": "2024-12-11T18:45:06.546109Z",
     "shell.execute_reply.started": "2024-12-11T18:45:05.282329Z"
    },
    "trusted": true
   },
   "outputs": [],
   "source": [
    "import mlflow\n",
    "import time\n",
    "import torch\n",
    "\n",
    "from omegaconf import OmegaConf\n",
    "from torch.utils.data import DataLoader\n",
    "\n",
    "from nba_betting_ai.consts import proj_paths\n",
    "from nba_betting_ai.data.processing import add_prefix\n",
    "from nba_betting_ai.model.bayesian import BayesianResultPredictor\n",
    "from nba_betting_ai.model.inputs import prepare_scalers\n",
    "from nba_betting_ai.training.dataset import NBADataset\n",
    "from nba_betting_ai.training.pipeline import prepare_data\n",
    "from nba_betting_ai.training.run import run_training"
   ]
  },
  {
   "cell_type": "code",
   "execution_count": 2,
   "metadata": {},
   "outputs": [],
   "source": [
    "process_key = lambda key: \"\".join(\n",
    "    word[0]\n",
    "    for word in key.split('_')\n",
    ")\n",
    "def name_run(config):\n",
    "    run_name = '_'.join(\n",
    "        f\"{value}{process_key(key)}\"\n",
    "        for key, value in config.training.model_config.items()\n",
    "        if key != 'time_scaling'\n",
    "    )\n",
    "    run_name += f\"_wd{config.training.params.weight_decay}\"\n",
    "    run_name += '_WL'  if config.training.params.weighted_loss else \"_nWL\"\n",
    "    run_name += f\"_TS\" if config.training.model_config.time_scaling else \"_nTS\"\n",
    "    run_name += '_' + config.model_name.split('_')[0]\n",
    "    return run_name"
   ]
  },
  {
   "cell_type": "code",
   "execution_count": null,
   "metadata": {},
   "outputs": [
    {
     "name": "stderr",
     "output_type": "stream",
     "text": [
      "2025/02/11 15:03:50 INFO mlflow.system_metrics.system_metrics_monitor: Started monitoring system metrics.\n",
      "loss: 1.5612 | epoch:  0/80:   0%|          | 75/20320 [00:04<09:30, 35.49it/s]  "
     ]
    }
   ],
   "source": [
    "now = time.strftime(\"%Y%m%d-%H%M%S\")\n",
    "config = OmegaConf.load(proj_paths.config.default)\n",
    "scalers_path = proj_paths.output / 'scalers.pkl'\n",
    "input_teams = config['inputs_team'] or []\n",
    "data_prepared = prepare_data(**config['data_params'])\n",
    "scalers = prepare_scalers(data_prepared.X_train, input_teams, scalers_path)\n",
    "\n",
    "train_dataset = NBADataset(input_teams, config['target'], data_prepared.X_train, data_prepared.teams, scalers)\n",
    "test_dataset = NBADataset(input_teams, config['target'], data_prepared.X_test, data_prepared.teams, scalers)\n",
    "\n",
    "params = config['training']['params']\n",
    "train_loader = DataLoader(train_dataset, batch_size=params['batch_size'], shuffle=True)\n",
    "test_loader = DataLoader(test_dataset, batch_size=params['batch_size'], shuffle=False)\n",
    "\n",
    "device = torch.device('cuda' if torch.cuda.is_available() else 'cpu')\n",
    "model_init = OmegaConf.create(dict(\n",
    "    team_count=len(data_prepared.teams),\n",
    "    team_features=len(input_teams)//2,\n",
    "    **config['training']['model_config']\n",
    "))\n",
    "model_init_path = proj_paths.output / \"model_init.yaml\"\n",
    "model_init_path.open(\"w\").write(OmegaConf.to_yaml(model_init))\n",
    "model = BayesianResultPredictor(**model_init).to(device)\n",
    "\n",
    "optimizer = torch.optim.Adam(\n",
    "    model.parameters(),\n",
    "    lr=params['learning_rate'],\n",
    "    weight_decay=params['weight_decay'] or 0.0\n",
    ")\n",
    "scheduler = torch.optim.lr_scheduler.ExponentialLR(optimizer, gamma = params.get('lr_gamma', 1.0))\n",
    "\n",
    "create_experiment = mlflow.get_experiment_by_name(config['experiment_name']) is None\n",
    "if create_experiment:\n",
    "    mlflow.create_experiment(\n",
    "        name=config['experiment_name'],\n",
    "        tags={\n",
    "            'author': 'Tom Bukic',\n",
    "            'company': 'accelerate.ai'\n",
    "        }\n",
    "    )\n",
    "    create_experiment = False\n",
    "\n",
    "mlflow.set_experiment(config['experiment_name'])\n",
    "with mlflow.start_run(run_name=f'{name_run(config)}-{now}'):\n",
    "    mlflow.log_artifact(model_init_path)\n",
    "    run_training(model, train_loader, test_loader, config, optimizer,  device, scheduler,  timestamp=now)"
   ]
  }
 ],
 "metadata": {
  "kaggle": {
   "accelerator": "none",
   "dataSources": [
    {
     "datasetId": 2151223,
     "sourceId": 4088094,
     "sourceType": "datasetVersion"
    }
   ],
   "dockerImageVersionId": 30804,
   "isGpuEnabled": false,
   "isInternetEnabled": false,
   "language": "python",
   "sourceType": "notebook"
  },
  "kernelspec": {
   "display_name": ".venv",
   "language": "python",
   "name": "python3"
  },
  "language_info": {
   "codemirror_mode": {
    "name": "ipython",
    "version": 3
   },
   "file_extension": ".py",
   "mimetype": "text/x-python",
   "name": "python",
   "nbconvert_exporter": "python",
   "pygments_lexer": "ipython3",
   "version": "3.12.8"
  }
 },
 "nbformat": 4,
 "nbformat_minor": 4
}
